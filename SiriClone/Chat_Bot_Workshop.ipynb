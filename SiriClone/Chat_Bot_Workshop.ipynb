{
 "cells": [
  {
   "cell_type": "markdown",
   "id": "PDNa69fz8LIZ",
   "metadata": {
    "id": "PDNa69fz8LIZ"
   },
   "source": [
    "**Important note:** You must download this notebook and run it offline. It will not work in Google Colab, because Colab does not have access to your microphone."
   ]
  },
  {
   "cell_type": "markdown",
   "id": "2266dbed-7c07-4a3f-b1f6-7078452d588e",
   "metadata": {
    "id": "2266dbed-7c07-4a3f-b1f6-7078452d588e",
    "tags": []
   },
   "source": [
    "# Step 1: Answering questions with Wolfram Alpha\n",
    "You've probably used [Wolfram Alpha](https://www.wolframalpha.com/) before. If you haven't, stop by the website and give it a whirl. You can ask questions about math, science, or the world, and it can answer them!\n",
    "\n",
    "What you might not know is that there's a Wolfram Alpha API, and with the right python package we can actually ask Wolfram Alpha questions and get answers directly in our code."
   ]
  },
  {
   "cell_type": "markdown",
   "id": "4d7415a7-d63d-48c9-ba73-c77d6ac30527",
   "metadata": {
    "id": "4d7415a7-d63d-48c9-ba73-c77d6ac30527",
    "tags": []
   },
   "source": [
    "## Wolfram Alpha Installation\n",
    "Run the following to install the Wolfram Alpha API python package:"
   ]
  },
  {
   "cell_type": "code",
   "execution_count": 2,
   "id": "686f0ee7-3e98-437d-8641-0f23d04d7722",
   "metadata": {
    "id": "686f0ee7-3e98-437d-8641-0f23d04d7722"
   },
   "outputs": [
    {
     "name": "stdout",
     "output_type": "stream",
     "text": [
      "Requirement already satisfied: wolframalpha in c:\\programming\\school\\cse 231\\siriclone\\lib\\site-packages (5.0.0)\n",
      "Requirement already satisfied: jaraco.context in c:\\programming\\school\\cse 231\\siriclone\\lib\\site-packages (from wolframalpha) (4.1.1)\n",
      "Requirement already satisfied: xmltodict in c:\\programming\\school\\cse 231\\siriclone\\lib\\site-packages (from wolframalpha) (0.12.0)\n",
      "Requirement already satisfied: more-itertools in c:\\programming\\school\\cse 231\\siriclone\\lib\\site-packages (from wolframalpha) (8.12.0)\n",
      "Note: you may need to restart the kernel to use updated packages.\n"
     ]
    },
    {
     "name": "stderr",
     "output_type": "stream",
     "text": [
      "WARNING: You are using pip version 21.1.2; however, version 22.0.4 is available.\n",
      "You should consider upgrading via the 'c:\\programming\\school\\cse 231\\siriclone\\scripts\\python.exe -m pip install --upgrade pip' command.\n"
     ]
    }
   ],
   "source": [
    "%pip install wolframalpha"
   ]
  },
  {
   "cell_type": "markdown",
   "id": "8e0f453c-2029-4582-b881-6183be2abf98",
   "metadata": {
    "id": "8e0f453c-2029-4582-b881-6183be2abf98",
    "tags": []
   },
   "source": [
    "## Wolfram Alpha Code\n",
    "The following code asks the user for a question (like \"what is 1 + 1?\" or \"when was george washington born\"), and then asks the Wolfram Alpha package for an answer."
   ]
  },
  {
   "cell_type": "markdown",
   "id": "4a7188bd-58ee-4d6b-a609-d4c2070cec4d",
   "metadata": {
    "id": "4a7188bd-58ee-4d6b-a609-d4c2070cec4d"
   },
   "source": [
    "The Wolfram Alpha package gets its answers by asking the Wolfram Alpha API. That API costs money, but the first 2,000 requests per month are free for each API key you generate. (An API key is a bit like a password.)\n",
    "\n",
    "I have created a few API keys that we can all share. Any of these should work. If one has hit the 2,000 request limit, switch to using a different one:\n",
    "* `PQKR53-4VJTP72EUK`\n",
    "* `PQKR53-2HWPLUA734`\n",
    "* `PQKR53-5HXLRAR5TW`\n",
    "* `PQKR53-7EPKPRK8KX`\n",
    "* `PQKR53-48RQ69WY9R`\n",
    "\n",
    "(Or you can create your own for free by clicking \"Get Started\" [here](https://products.wolframalpha.com/simple-api/documentation/).)\n",
    "\n",
    "The following code uses an API key to create a Wolfram Alpha \"client\". It won't do anything until we start to use it, but try running it anyway:"
   ]
  },
  {
   "cell_type": "code",
   "execution_count": 3,
   "id": "62656709-54cf-49ad-8daf-ac424b681cc1",
   "metadata": {
    "id": "62656709-54cf-49ad-8daf-ac424b681cc1"
   },
   "outputs": [
    {
     "name": "stdout",
     "output_type": "stream",
     "text": [
      "<wolframalpha.Client object at 0x000001FF551BA5B0>\n"
     ]
    }
   ],
   "source": [
    "from wolframalpha import Client\n",
    "\n",
    "client = Client('PQKR53-4VJTP72EUK') # API Key\n",
    "\n",
    "print(client)"
   ]
  },
  {
   "cell_type": "markdown",
   "id": "fa08b0f9-7339-44f2-a250-cba67a88e2e8",
   "metadata": {
    "id": "fa08b0f9-7339-44f2-a250-cba67a88e2e8"
   },
   "source": [
    "Amazing! Now that we have a client, we can send the client questions called \"queries\". Let's try asking it what 1 + 1 is:"
   ]
  },
  {
   "cell_type": "code",
   "execution_count": 4,
   "id": "970cc99f-69fd-49ad-8a24-f0288cefb8a4",
   "metadata": {
    "id": "970cc99f-69fd-49ad-8a24-f0288cefb8a4"
   },
   "outputs": [
    {
     "name": "stdout",
     "output_type": "stream",
     "text": [
      "{'@success': True, '@error': 'false', '@xml:space': 'preserve', '@numpods': '6', '@datatypes': 'Math', '@timedout': '', '@timedoutpods': '', '@timing': '0.757', '@parsetiming': '0.153', '@parsetimedout': 'false', '@recalculate': '', '@id': 'MSP103185h1gca706cf77700001a7h2ch71bfd9di0', '@host': 'https://www6b3.wolframalpha.com', '@server': '13', '@related': 'https://www6b3.wolframalpha.com/api/v1/relatedQueries.jsp?id=MSPa104185h1gca706cf77700001dac2d4a6i23h6aa4222294402565530544', '@version': '2.6', '@inputstring': 'What is 1 + 1', 'pod': [{'@title': 'Input', '@scanner': 'Identity', '@id': 'Input', '@position': 100.0, '@error': 'false', '@numsubpods': 1, 'subpod': {'@title': '', 'img': {'@src': 'https://www6b3.wolframalpha.com/Calculate/MSP/MSP105185h1gca706cf777000013c4c89g673156b1?MSPStoreType=image/gif&s=13', '@alt': '1 + 1', '@title': '1 + 1', '@width': 32, '@height': 19, '@type': 'Default', '@themes': '1,2,3,4,5,6,7,8,9,10,11,12', '@colorinvertable': 'true', '@contenttype': 'image/gif'}, 'plaintext': '1 + 1'}, 'expressiontypes': OrderedDict([('@count', '1'), ('expressiontype', OrderedDict([('@name', 'Default')]))])}, {'@title': 'Result', '@scanner': 'Simplification', '@id': 'Result', '@position': 200.0, '@error': 'false', '@numsubpods': 1, '@primary': True, 'subpod': {'@title': '', 'img': {'@src': 'https://www6b3.wolframalpha.com/Calculate/MSP/MSP106185h1gca706cf77700001c3616c29a1hahc0?MSPStoreType=image/gif&s=13', '@alt': '2', '@title': '2', '@width': 8, '@height': 19, '@type': 'Default', '@themes': '1,2,3,4,5,6,7,8,9,10,11,12', '@colorinvertable': 'true', '@contenttype': 'image/gif'}, 'plaintext': '2'}, 'expressiontypes': OrderedDict([('@count', '1'), ('expressiontype', OrderedDict([('@name', 'Default')]))]), 'states': OrderedDict([('@count', '1'), ('state', OrderedDict([('@name', 'Step-by-step solution'), ('@input', 'Result__Step-by-step solution'), ('@stepbystep', 'true')]))])}, {'@title': 'Number line', '@scanner': 'NumberLine', '@id': 'NumberLine', '@position': 300.0, '@error': 'false', '@numsubpods': 1, 'subpod': {'@title': '', 'img': {'@src': 'https://www6b3.wolframalpha.com/Calculate/MSP/MSP107185h1gca706cf777000038bi2694agi90dhf?MSPStoreType=image/gif&s=13', '@alt': 'Number line', '@title': '', '@width': 330, '@height': 55, '@type': '1DMathPlot_2', '@themes': '1,2,3,4,5,6,7,8,9,10,11,12', '@colorinvertable': 'true', '@contenttype': 'image/gif'}, 'plaintext': None}, 'expressiontypes': OrderedDict([('@count', '1'), ('expressiontype', OrderedDict([('@name', 'Default')]))])}, {'@title': 'Number name', '@scanner': 'Integer', '@id': 'NumberName', '@position': 400.0, '@error': 'false', '@numsubpods': 1, 'subpod': {'@title': '', 'img': {'@src': 'https://www6b3.wolframalpha.com/Calculate/MSP/MSP108185h1gca706cf777000044g5b50hf4d68b0e?MSPStoreType=image/gif&s=13', '@alt': 'two', '@title': 'two', '@width': 25, '@height': 19, '@type': 'Default', '@themes': '1,2,3,4,5,6,7,8,9,10,11,12', '@colorinvertable': 'true', '@contenttype': 'image/gif'}, 'plaintext': 'two'}, 'expressiontypes': OrderedDict([('@count', '1'), ('expressiontype', OrderedDict([('@name', 'Default')]))])}, {'@title': 'Manipulatives illustration', '@scanner': 'Arithmetic', '@id': 'Illustration', '@position': 500.0, '@error': 'false', '@numsubpods': 1, 'subpod': {'@title': '', 'img': {'@src': 'https://www6b3.wolframalpha.com/Calculate/MSP/MSP109185h1gca706cf7770000699e6dg95573i4e9?MSPStoreType=image/gif&s=13', '@alt': ' | + | | = |  1 | | 1 | | 2', '@title': ' | + | | = |  1 | | 1 | | 2', '@width': 116, '@height': 41, '@type': 'Default', '@themes': '1,2,3,4,5,6,7,8,9,10,11,12', '@colorinvertable': 'true', '@contenttype': 'image/gif'}, 'plaintext': '| + | | = | \\n1 | | 1 | | 2'}, 'expressiontypes': OrderedDict([('@count', '1'), ('expressiontype', OrderedDict([('@name', 'Default')]))])}, {'@title': 'Typical human computation times', '@scanner': 'Arithmetic', '@id': 'TypicalHumanComputationTimes', '@position': 600.0, '@error': 'false', '@numsubpods': 1, 'subpod': {'@title': '', 'microsources': OrderedDict([('microsource', 'HumanComputationQuery')]), 'img': {'@src': 'https://www6b3.wolframalpha.com/Calculate/MSP/MSP110185h1gca706cf7770000109d64hh0504ah92?MSPStoreType=image/gif&s=13', '@alt': 'age 6: 3.2 seconds | age 8: 1.8 seconds | age 10: 1.2 seconds |  age 18: 0.83 seconds (ignoring concentration, repetition, variations in education, etc.)', '@title': 'age 6: 3.2 seconds | age 8: 1.8 seconds | age 10: 1.2 seconds |  age 18: 0.83 seconds (ignoring concentration, repetition, variations in education, etc.)', '@width': 449, '@height': 66, '@type': 'Grid', '@themes': '1,2,3,4,5,6,7,8,9,10,11,12', '@colorinvertable': 'true', '@contenttype': 'image/gif'}, 'plaintext': 'age 6: 3.2 seconds | age 8: 1.8 seconds | age 10: 1.2 seconds | \\nage 18: 0.83 seconds\\n(ignoring concentration, repetition, variations in education, etc.)'}, 'expressiontypes': OrderedDict([('@count', '1'), ('expressiontype', OrderedDict([('@name', 'Grid')]))]), 'states': OrderedDict([('@count', '1'), ('state', OrderedDict([('@name', 'More details'), ('@input', 'TypicalHumanComputationTimes__More details')]))])}], 'sources': OrderedDict([('@count', '1'), ('source', OrderedDict([('@url', 'https://www6b3.wolframalpha.com/sources/HumanComputationQuerySourceInformationNotes.html'), ('@text', 'Human computation query')]))])}\n"
     ]
    }
   ],
   "source": [
    "response = client.query(\"What is 1 + 1?\")\n",
    "\n",
    "print(response)"
   ]
  },
  {
   "cell_type": "markdown",
   "id": "e3643ea4-97b6-4fde-89f8-b54c10c2dcfb",
   "metadata": {
    "id": "e3643ea4-97b6-4fde-89f8-b54c10c2dcfb"
   },
   "source": [
    "Wow! That's a lot of information. [The documentation](https://wolframalpha.readthedocs.io/en/latest/?badge=latest) tells us about all the information being returned. In particular, there is this idea of \"pods\".\n",
    "\n",
    "Try entering [\"What is 1 + 1?\" on the Wolfram Alpha website](https://www.wolframalpha.com/input?i=What+is+1+%2B+1%3F). What do you see? Lots of different boxes, where each box contains a different kind of answer. Each box is called a \"pod\", and `response.pods` gives us a list of all of them. Let's loop through the pods and print them all out:"
   ]
  },
  {
   "cell_type": "code",
   "execution_count": 5,
   "id": "35fe5e45-1f9e-473b-9a66-08f4b8bf4afb",
   "metadata": {
    "id": "35fe5e45-1f9e-473b-9a66-08f4b8bf4afb"
   },
   "outputs": [
    {
     "name": "stdout",
     "output_type": "stream",
     "text": [
      "{'@title': 'Input', '@scanner': 'Identity', '@id': 'Input', '@position': 100.0, '@error': 'false', '@numsubpods': 1, 'subpod': {'@title': '', 'img': {'@src': 'https://www6b3.wolframalpha.com/Calculate/MSP/MSP105185h1gca706cf777000013c4c89g673156b1?MSPStoreType=image/gif&s=13', '@alt': '1 + 1', '@title': '1 + 1', '@width': 32, '@height': 19, '@type': 'Default', '@themes': '1,2,3,4,5,6,7,8,9,10,11,12', '@colorinvertable': 'true', '@contenttype': 'image/gif'}, 'plaintext': '1 + 1'}, 'expressiontypes': OrderedDict([('@count', '1'), ('expressiontype', OrderedDict([('@name', 'Default')]))])}\n",
      "{'@title': 'Result', '@scanner': 'Simplification', '@id': 'Result', '@position': 200.0, '@error': 'false', '@numsubpods': 1, '@primary': True, 'subpod': {'@title': '', 'img': {'@src': 'https://www6b3.wolframalpha.com/Calculate/MSP/MSP106185h1gca706cf77700001c3616c29a1hahc0?MSPStoreType=image/gif&s=13', '@alt': '2', '@title': '2', '@width': 8, '@height': 19, '@type': 'Default', '@themes': '1,2,3,4,5,6,7,8,9,10,11,12', '@colorinvertable': 'true', '@contenttype': 'image/gif'}, 'plaintext': '2'}, 'expressiontypes': OrderedDict([('@count', '1'), ('expressiontype', OrderedDict([('@name', 'Default')]))]), 'states': OrderedDict([('@count', '1'), ('state', OrderedDict([('@name', 'Step-by-step solution'), ('@input', 'Result__Step-by-step solution'), ('@stepbystep', 'true')]))])}\n",
      "{'@title': 'Number line', '@scanner': 'NumberLine', '@id': 'NumberLine', '@position': 300.0, '@error': 'false', '@numsubpods': 1, 'subpod': {'@title': '', 'img': {'@src': 'https://www6b3.wolframalpha.com/Calculate/MSP/MSP107185h1gca706cf777000038bi2694agi90dhf?MSPStoreType=image/gif&s=13', '@alt': 'Number line', '@title': '', '@width': 330, '@height': 55, '@type': '1DMathPlot_2', '@themes': '1,2,3,4,5,6,7,8,9,10,11,12', '@colorinvertable': 'true', '@contenttype': 'image/gif'}, 'plaintext': None}, 'expressiontypes': OrderedDict([('@count', '1'), ('expressiontype', OrderedDict([('@name', 'Default')]))])}\n",
      "{'@title': 'Number name', '@scanner': 'Integer', '@id': 'NumberName', '@position': 400.0, '@error': 'false', '@numsubpods': 1, 'subpod': {'@title': '', 'img': {'@src': 'https://www6b3.wolframalpha.com/Calculate/MSP/MSP108185h1gca706cf777000044g5b50hf4d68b0e?MSPStoreType=image/gif&s=13', '@alt': 'two', '@title': 'two', '@width': 25, '@height': 19, '@type': 'Default', '@themes': '1,2,3,4,5,6,7,8,9,10,11,12', '@colorinvertable': 'true', '@contenttype': 'image/gif'}, 'plaintext': 'two'}, 'expressiontypes': OrderedDict([('@count', '1'), ('expressiontype', OrderedDict([('@name', 'Default')]))])}\n",
      "{'@title': 'Manipulatives illustration', '@scanner': 'Arithmetic', '@id': 'Illustration', '@position': 500.0, '@error': 'false', '@numsubpods': 1, 'subpod': {'@title': '', 'img': {'@src': 'https://www6b3.wolframalpha.com/Calculate/MSP/MSP109185h1gca706cf7770000699e6dg95573i4e9?MSPStoreType=image/gif&s=13', '@alt': ' | + | | = |  1 | | 1 | | 2', '@title': ' | + | | = |  1 | | 1 | | 2', '@width': 116, '@height': 41, '@type': 'Default', '@themes': '1,2,3,4,5,6,7,8,9,10,11,12', '@colorinvertable': 'true', '@contenttype': 'image/gif'}, 'plaintext': '| + | | = | \\n1 | | 1 | | 2'}, 'expressiontypes': OrderedDict([('@count', '1'), ('expressiontype', OrderedDict([('@name', 'Default')]))])}\n",
      "{'@title': 'Typical human computation times', '@scanner': 'Arithmetic', '@id': 'TypicalHumanComputationTimes', '@position': 600.0, '@error': 'false', '@numsubpods': 1, 'subpod': {'@title': '', 'microsources': OrderedDict([('microsource', 'HumanComputationQuery')]), 'img': {'@src': 'https://www6b3.wolframalpha.com/Calculate/MSP/MSP110185h1gca706cf7770000109d64hh0504ah92?MSPStoreType=image/gif&s=13', '@alt': 'age 6: 3.2 seconds | age 8: 1.8 seconds | age 10: 1.2 seconds |  age 18: 0.83 seconds (ignoring concentration, repetition, variations in education, etc.)', '@title': 'age 6: 3.2 seconds | age 8: 1.8 seconds | age 10: 1.2 seconds |  age 18: 0.83 seconds (ignoring concentration, repetition, variations in education, etc.)', '@width': 449, '@height': 66, '@type': 'Grid', '@themes': '1,2,3,4,5,6,7,8,9,10,11,12', '@colorinvertable': 'true', '@contenttype': 'image/gif'}, 'plaintext': 'age 6: 3.2 seconds | age 8: 1.8 seconds | age 10: 1.2 seconds | \\nage 18: 0.83 seconds\\n(ignoring concentration, repetition, variations in education, etc.)'}, 'expressiontypes': OrderedDict([('@count', '1'), ('expressiontype', OrderedDict([('@name', 'Grid')]))]), 'states': OrderedDict([('@count', '1'), ('state', OrderedDict([('@name', 'More details'), ('@input', 'TypicalHumanComputationTimes__More details')]))])}\n"
     ]
    }
   ],
   "source": [
    "for pod in response.pods:\n",
    "    print(pod)\n",
    "    # TODO: Print out each pod\n",
    "    # ???"
   ]
  },
  {
   "cell_type": "markdown",
   "id": "7085c57e-70d5-4281-b9bb-5f6d79991f5b",
   "metadata": {
    "id": "7085c57e-70d5-4281-b9bb-5f6d79991f5b"
   },
   "source": [
    "The amount of information here is amazing. You could do really interesting things with this! And later this hour, perhaps you'll give it a try. But for now, it would be helpful to simplify. Notice that the pod named \"Result\" contains the simplest version of the information. The Wolfram Alpha python package gives us a simple way to get just the \"results\" pods with `response.results`. Try looping through `response.results` below, just like we looped through `response.pods` previously. Print them all out:"
   ]
  },
  {
   "cell_type": "code",
   "execution_count": 6,
   "id": "9b08e581-35f3-4737-bd9b-1c1c8b0540db",
   "metadata": {
    "id": "9b08e581-35f3-4737-bd9b-1c1c8b0540db"
   },
   "outputs": [
    {
     "name": "stdout",
     "output_type": "stream",
     "text": [
      "{'@title': 'Result', '@scanner': 'Simplification', '@id': 'Result', '@position': 200.0, '@error': 'false', '@numsubpods': 1, '@primary': True, 'subpod': {'@title': '', 'img': {'@src': 'https://www6b3.wolframalpha.com/Calculate/MSP/MSP106185h1gca706cf77700001c3616c29a1hahc0?MSPStoreType=image/gif&s=13', '@alt': '2', '@title': '2', '@width': 8, '@height': 19, '@type': 'Default', '@themes': '1,2,3,4,5,6,7,8,9,10,11,12', '@colorinvertable': 'true', '@contenttype': 'image/gif'}, 'plaintext': '2'}, 'expressiontypes': OrderedDict([('@count', '1'), ('expressiontype', OrderedDict([('@name', 'Default')]))]), 'states': OrderedDict([('@count', '1'), ('state', OrderedDict([('@name', 'Step-by-step solution'), ('@input', 'Result__Step-by-step solution'), ('@stepbystep', 'true')]))])}\n"
     ]
    }
   ],
   "source": [
    "# TODO: Loop through each pod in `response.results` and print it\n",
    "# ???\n",
    "for pod in response.results:\n",
    "    print(pod)"
   ]
  },
  {
   "cell_type": "markdown",
   "id": "42c48ab9-7640-42c5-b51a-4fb3087f6a8c",
   "metadata": {
    "id": "42c48ab9-7640-42c5-b51a-4fb3087f6a8c"
   },
   "source": [
    "This is better. There's only one response pod here, which will usually be the case. If you don't want to loop, you can just get the first response pod instead using `next(response.results)`:"
   ]
  },
  {
   "cell_type": "code",
   "execution_count": 7,
   "id": "86f9e321-6223-459d-ac4e-c02567df8870",
   "metadata": {
    "id": "86f9e321-6223-459d-ac4e-c02567df8870"
   },
   "outputs": [
    {
     "name": "stdout",
     "output_type": "stream",
     "text": [
      "{'@title': 'Result', '@scanner': 'Simplification', '@id': 'Result', '@position': 200.0, '@error': 'false', '@numsubpods': 1, '@primary': True, 'subpod': {'@title': '', 'img': {'@src': 'https://www6b3.wolframalpha.com/Calculate/MSP/MSP106185h1gca706cf77700001c3616c29a1hahc0?MSPStoreType=image/gif&s=13', '@alt': '2', '@title': '2', '@width': 8, '@height': 19, '@type': 'Default', '@themes': '1,2,3,4,5,6,7,8,9,10,11,12', '@colorinvertable': 'true', '@contenttype': 'image/gif'}, 'plaintext': '2'}, 'expressiontypes': OrderedDict([('@count', '1'), ('expressiontype', OrderedDict([('@name', 'Default')]))]), 'states': OrderedDict([('@count', '1'), ('state', OrderedDict([('@name', 'Step-by-step solution'), ('@input', 'Result__Step-by-step solution'), ('@stepbystep', 'true')]))])}\n"
     ]
    }
   ],
   "source": [
    "pod = next(response.results)\n",
    "print(pod)"
   ]
  },
  {
   "cell_type": "markdown",
   "id": "a4ee598e-7a73-4d81-8945-6df0b69a3e77",
   "metadata": {
    "id": "a4ee598e-7a73-4d81-8945-6df0b69a3e77"
   },
   "source": [
    "Finally, it would be nice to get some simple text out of this pod, rather than all the masses of information it's currently giving us. Fortunately, `pod.text` will do the trick. Give it a try here:"
   ]
  },
  {
   "cell_type": "code",
   "execution_count": 9,
   "id": "e5d1b4d6-200b-49b5-bef6-8598af742202",
   "metadata": {
    "id": "e5d1b4d6-200b-49b5-bef6-8598af742202"
   },
   "outputs": [
    {
     "name": "stdout",
     "output_type": "stream",
     "text": [
      "2\n"
     ]
    }
   ],
   "source": [
    "pod = next(response.results)\n",
    "text = pod.text\n",
    "print(text)\n",
    "# TODO: Print out just the text answer from the pod\n",
    "# ???"
   ]
  },
  {
   "cell_type": "markdown",
   "id": "dac7470a-c82b-44ab-bc31-b12621273732",
   "metadata": {
    "id": "dac7470a-c82b-44ab-bc31-b12621273732"
   },
   "source": [
    "Amazing! Now we know the answer to \"What is 1 + 1?\"\n",
    "\n",
    "We've done a lot. Now, can you put it all together? Try to create a program that asks the user for a question, and then provides the text answer to that question:"
   ]
  },
  {
   "cell_type": "code",
   "execution_count": 15,
   "id": "84efdde7-c1ea-4b47-b8af-eba90006cccc",
   "metadata": {
    "id": "84efdde7-c1ea-4b47-b8af-eba90006cccc"
   },
   "outputs": [
    {
     "name": "stdout",
     "output_type": "stream",
     "text": [
      "What is your question?what is 5 * 5\n",
      "Your question: what is 5 * 5\n",
      "Answer: 25\n"
     ]
    }
   ],
   "source": [
    "question = input(\"What is your question?\")\n",
    "\n",
    "# TODO: Get the text answer to the question from Wolfram Alpha\n",
    "response = client.query(question)\n",
    "pod = next(response.results)\n",
    "answer = pod.text # ???\n",
    "\n",
    "print(\"Your question: {}\".format(question))\n",
    "print(\"Answer: {}\".format(answer))"
   ]
  },
  {
   "cell_type": "markdown",
   "id": "83cacf45-a8f3-48f7-85a9-cf8de8973cd5",
   "metadata": {
    "id": "83cacf45-a8f3-48f7-85a9-cf8de8973cd5",
    "tags": []
   },
   "source": [
    "# Step 2: Text to Speech\n",
    "Now let's make the computer talk. The package `pyttsx3` allows us to speak any string."
   ]
  },
  {
   "cell_type": "markdown",
   "id": "4dc38e30-d87d-4770-ba38-b6951e367bc9",
   "metadata": {
    "id": "4dc38e30-d87d-4770-ba38-b6951e367bc9"
   },
   "source": [
    "## Text to Speech Installation\n",
    "Run the following command to install the `pyttsx3` python package:"
   ]
  },
  {
   "cell_type": "code",
   "execution_count": 16,
   "id": "dab0e2a9-1e00-4da7-9748-9385db63c041",
   "metadata": {
    "id": "dab0e2a9-1e00-4da7-9748-9385db63c041",
    "scrolled": true,
    "tags": []
   },
   "outputs": [
    {
     "name": "stdout",
     "output_type": "stream",
     "text": [
      "Collecting pyttsx3\n",
      "  Downloading pyttsx3-2.90-py3-none-any.whl (39 kB)\n",
      "Collecting comtypes\n",
      "  Downloading comtypes-1.1.11-py2.py3-none-any.whl (167 kB)\n",
      "Collecting pypiwin32\n",
      "  Downloading pypiwin32-223-py3-none-any.whl (1.7 kB)\n",
      "Requirement already satisfied: pywin32 in c:\\programming\\school\\cse 231\\siriclone\\lib\\site-packages (from pyttsx3) (303)\n",
      "Installing collected packages: pypiwin32, comtypes, pyttsx3\n",
      "Successfully installed comtypes-1.1.11 pypiwin32-223 pyttsx3-2.90\n",
      "Note: you may need to restart the kernel to use updated packages.\n"
     ]
    },
    {
     "name": "stderr",
     "output_type": "stream",
     "text": [
      "WARNING: You are using pip version 21.1.2; however, version 22.0.4 is available.\n",
      "You should consider upgrading via the 'c:\\programming\\school\\cse 231\\siriclone\\scripts\\python.exe -m pip install --upgrade pip' command.\n"
     ]
    }
   ],
   "source": [
    "%pip install pyttsx3"
   ]
  },
  {
   "cell_type": "markdown",
   "id": "e74a8253-aea8-4426-ae6e-eaadd5af185d",
   "metadata": {
    "id": "e74a8253-aea8-4426-ae6e-eaadd5af185d"
   },
   "source": [
    "## Text to Speech Code\n",
    "Now that the package is installed, we can use it to make the computer speak."
   ]
  },
  {
   "cell_type": "code",
   "execution_count": 30,
   "id": "c1337e2f-25a0-4e5b-9ef1-535309f05843",
   "metadata": {
    "id": "c1337e2f-25a0-4e5b-9ef1-535309f05843"
   },
   "outputs": [],
   "source": [
    "import pyttsx3\n",
    "\n",
    "# You only need to create the engine once...\n",
    "engine = pyttsx3.init()\n",
    "\n",
    "# ...And then you can use it as many times as you want\n",
    "engine.say(\"I'm alive!\")\n",
    "engine.runAndWait()\n",
    "\n",
    "engine.say(\"Pretty cool, right?\")\n",
    "engine.runAndWait()"
   ]
  },
  {
   "cell_type": "markdown",
   "id": "95d11b73-55c0-4757-8ce5-a8db84fc5666",
   "metadata": {
    "id": "95d11b73-55c0-4757-8ce5-a8db84fc5666"
   },
   "source": [
    "Amazing! Try changing the words in the code above. It will say whatever you type.\n",
    "\n",
    "There are also a few settings you can change to make the voice different. First, you can change the talking speed by setting the `\"rate\"` property:"
   ]
  },
  {
   "cell_type": "code",
   "execution_count": 20,
   "id": "a29e3c96-923f-4dc0-ae8a-ecfff4fe270e",
   "metadata": {
    "id": "a29e3c96-923f-4dc0-ae8a-ecfff4fe270e"
   },
   "outputs": [],
   "source": [
    "engine.setProperty(\"rate\", 200)\n",
    "\n",
    "engine.say(\"This is at normal speed\")\n",
    "engine.runAndWait()\n",
    "\n",
    "engine.setProperty(\"rate\", 400)\n",
    "\n",
    "engine.say(\"And this is extra fast\")\n",
    "engine.runAndWait()\n",
    "\n",
    "engine.setProperty(\"rate\", 200)"
   ]
  },
  {
   "cell_type": "markdown",
   "id": "55513df9-a02a-4f18-9809-8b58365ad1f1",
   "metadata": {
    "id": "55513df9-a02a-4f18-9809-8b58365ad1f1"
   },
   "source": [
    "You can also change the voice:"
   ]
  },
  {
   "cell_type": "code",
   "execution_count": 26,
   "id": "2f237c14-fb2e-425f-8f68-7ad77e50f403",
   "metadata": {
    "id": "2f237c14-fb2e-425f-8f68-7ad77e50f403"
   },
   "outputs": [
    {
     "name": "stdout",
     "output_type": "stream",
     "text": [
      "List of available voices:\n",
      "['HKEY_LOCAL_MACHINE\\\\SOFTWARE\\\\Microsoft\\\\Speech\\\\Voices\\\\Tokens\\\\TTS_MS_EN-US_DAVID_11.0', 'HKEY_LOCAL_MACHINE\\\\SOFTWARE\\\\Microsoft\\\\Speech\\\\Voices\\\\Tokens\\\\TTS_MS_EN-US_ZIRA_11.0', 'HKEY_LOCAL_MACHINE\\\\SOFTWARE\\\\Microsoft\\\\Speech\\\\Voices\\\\Tokens\\\\TTS_MS_JA-JP_HARUKA_11.0']\n"
     ]
    }
   ],
   "source": [
    "# Get a list of all the available voices\n",
    "# (Different voices are available depending on what kind of computer you're using)\n",
    "voices = engine.getProperty(\"voices\")\n",
    "\n",
    "# Print out the available voice ids\n",
    "print(\"List of available voices:\")\n",
    "print([voice.id for voice in voices])\n",
    "\n",
    "# Choose a voice id to use\n",
    "voice_id_to_use = voices[1].id\n",
    "\n",
    "# Set the chosen voice\n",
    "engine.setProperty(\"voice\", voice_id_to_use)\n",
    "\n",
    "# Speak\n",
    "engine.say(\"The quick brown fox jumped over the lazy dog.\")\n",
    "engine.runAndWait()"
   ]
  },
  {
   "cell_type": "markdown",
   "id": "c9b9813d-a80a-40c6-a6aa-a955abe54e30",
   "metadata": {
    "id": "c9b9813d-a80a-40c6-a6aa-a955abe54e30",
    "tags": []
   },
   "source": [
    "# Step 3: Speech to Text\n",
    "Now... Can we speak to the computer and have it understand? Yes we can! This time we will use a package called `SpeechRecognition`, which will connect us to the Google Speech to Text API. (Plus a supporting package called `PyAudio` that will allow us to access the microphone.)"
   ]
  },
  {
   "cell_type": "markdown",
   "id": "20efc2dc-aa92-4000-b655-4968d678d430",
   "metadata": {
    "id": "20efc2dc-aa92-4000-b655-4968d678d430",
    "tags": []
   },
   "source": [
    "## Speech to Text Installation\n",
    "Installing the `SpeechRecognition` package is nice and easy, so let's do that first:"
   ]
  },
  {
   "cell_type": "code",
   "execution_count": 27,
   "id": "bfcbfce4-eb50-41c8-83f1-3877f33b23b4",
   "metadata": {
    "id": "bfcbfce4-eb50-41c8-83f1-3877f33b23b4",
    "scrolled": true,
    "tags": []
   },
   "outputs": [
    {
     "name": "stdout",
     "output_type": "stream",
     "text": [
      "Note: you may need to restart the kernel to use updated packages.\n"
     ]
    },
    {
     "name": "stderr",
     "output_type": "stream",
     "text": [
      "WARNING: You are using pip version 21.1.2; however, version 22.0.4 is available.\n",
      "You should consider upgrading via the 'c:\\programming\\school\\cse 231\\siriclone\\scripts\\python.exe -m pip install --upgrade pip' command.\n"
     ]
    },
    {
     "name": "stdout",
     "output_type": "stream",
     "text": [
      "Collecting SpeechRecognition\n",
      "  Downloading SpeechRecognition-3.8.1-py2.py3-none-any.whl (32.8 MB)\n",
      "Installing collected packages: SpeechRecognition\n",
      "Successfully installed SpeechRecognition-3.8.1\n"
     ]
    }
   ],
   "source": [
    "%pip install SpeechRecognition"
   ]
  },
  {
   "cell_type": "markdown",
   "id": "d51c7a5e-8fd7-4860-a50f-b8ac76d54ab8",
   "metadata": {
    "id": "d51c7a5e-8fd7-4860-a50f-b8ac76d54ab8"
   },
   "source": [
    "Unfortunately, `PyAudio`, which is used to access the microphone, is a bit trickier to install. You'll have to follow the appropriate directions for your particular computer, and ask your friends or your search engine for help if you get stuck.\n",
    "\n",
    "(By the way... We never actually import the `PyAudio` package in our code directly, but it is still needed. The `SpeechRecognition` package uses it when we ask for microphone access.)"
   ]
  },
  {
   "cell_type": "markdown",
   "id": "e471ef10-0e45-461e-b847-dc4b42dc1088",
   "metadata": {
    "id": "e471ef10-0e45-461e-b847-dc4b42dc1088",
    "tags": []
   },
   "source": [
    "### `PyAudio` on Windows\n",
    "I haven't actually tried this myself, but [I am told](https://stackoverflow.com/a/56354995/2205195) that it will work:"
   ]
  },
  {
   "cell_type": "code",
   "execution_count": 28,
   "id": "fdbcd4ee-22f4-4807-8b8f-ddeb75b60777",
   "metadata": {
    "id": "fdbcd4ee-22f4-4807-8b8f-ddeb75b60777",
    "scrolled": true,
    "tags": []
   },
   "outputs": [
    {
     "name": "stdout",
     "output_type": "stream",
     "text": [
      "Collecting pipwin\n",
      "  Downloading pipwin-0.5.2.tar.gz (7.9 kB)\n",
      "Collecting docopt\n",
      "  Downloading docopt-0.6.2.tar.gz (25 kB)\n",
      "Collecting requests\n",
      "  Using cached requests-2.27.1-py2.py3-none-any.whl (63 kB)\n",
      "Collecting pyprind\n",
      "  Downloading PyPrind-2.11.3-py2.py3-none-any.whl (8.4 kB)\n",
      "Requirement already satisfied: six in c:\\programming\\school\\cse 231\\siriclone\\lib\\site-packages (from pipwin) (1.16.0)\n",
      "Requirement already satisfied: beautifulsoup4>=4.9.0 in c:\\programming\\school\\cse 231\\siriclone\\lib\\site-packages (from pipwin) (4.10.0)\n",
      "Collecting js2py\n",
      "  Downloading Js2Py-0.71-py3-none-any.whl (1.0 MB)\n",
      "Requirement already satisfied: packaging in c:\\programming\\school\\cse 231\\siriclone\\lib\\site-packages (from pipwin) (21.3)\n",
      "Collecting pySmartDL>=1.3.1\n",
      "  Downloading pySmartDL-1.3.4-py3-none-any.whl (20 kB)\n",
      "Requirement already satisfied: soupsieve>1.2 in c:\\programming\\school\\cse 231\\siriclone\\lib\\site-packages (from beautifulsoup4>=4.9.0->pipwin) (2.3.1)\n",
      "Collecting tzlocal>=1.2\n",
      "  Downloading tzlocal-4.1-py3-none-any.whl (19 kB)\n",
      "Collecting pyjsparser>=2.5.1\n",
      "  Downloading pyjsparser-2.7.1.tar.gz (24 kB)\n",
      "Collecting tzdata\n",
      "  Downloading tzdata-2022.1-py2.py3-none-any.whl (339 kB)\n",
      "Collecting pytz-deprecation-shim\n",
      "  Downloading pytz_deprecation_shim-0.1.0.post0-py2.py3-none-any.whl (15 kB)\n",
      "Requirement already satisfied: pyparsing!=3.0.5,>=2.0.2 in c:\\programming\\school\\cse 231\\siriclone\\lib\\site-packages (from packaging->pipwin) (3.0.7)\n",
      "Collecting urllib3<1.27,>=1.21.1\n",
      "  Using cached urllib3-1.26.9-py2.py3-none-any.whl (138 kB)\n",
      "Requirement already satisfied: idna<4,>=2.5 in c:\\programming\\school\\cse 231\\siriclone\\lib\\site-packages (from requests->pipwin) (3.3)\n",
      "Collecting certifi>=2017.4.17\n",
      "  Using cached certifi-2021.10.8-py2.py3-none-any.whl (149 kB)\n",
      "Collecting charset-normalizer~=2.0.0\n",
      "  Using cached charset_normalizer-2.0.12-py3-none-any.whl (39 kB)\n",
      "Building wheels for collected packages: pipwin, docopt, pyjsparser\n",
      "  Building wheel for pipwin (setup.py): started\n",
      "  Building wheel for pipwin (setup.py): finished with status 'done'\n",
      "  Created wheel for pipwin: filename=pipwin-0.5.2-py2.py3-none-any.whl size=8791 sha256=e00a8e8ab60def6631e178f0794ae34c38034e2496bcd296384ff5ba6c50f202\n",
      "  Stored in directory: c:\\users\\kakan\\appdata\\local\\pip\\cache\\wheels\\bc\\86\\30\\f70db104d3f51560d9a177d6ced4f7e09f3e474d6985c101ae\n",
      "  Building wheel for docopt (setup.py): started\n",
      "  Building wheel for docopt (setup.py): finished with status 'done'\n",
      "  Created wheel for docopt: filename=docopt-0.6.2-py2.py3-none-any.whl size=13724 sha256=41af06d14305d5c1cdaca036ff9dd8334ed77ed898820973670f1399d314e091\n",
      "  Stored in directory: c:\\users\\kakan\\appdata\\local\\pip\\cache\\wheels\\70\\4a\\46\\1309fc853b8d395e60bafaf1b6df7845bdd82c95fd59dd8d2b\n",
      "  Building wheel for pyjsparser (setup.py): started\n",
      "  Building wheel for pyjsparser (setup.py): finished with status 'done'\n",
      "  Created wheel for pyjsparser: filename=pyjsparser-2.7.1-py3-none-any.whl size=25997 sha256=1a61746ba381b800eb4d1f74fc145faa250d428f10e2b095bb6d93c520db8e3f\n",
      "  Stored in directory: c:\\users\\kakan\\appdata\\local\\pip\\cache\\wheels\\f0\\70\\61\\f42dc45dcf0fbe8c495ce579b04730787081499bfb5b8bc60e\n",
      "Successfully built pipwin docopt pyjsparser\n",
      "Installing collected packages: tzdata, pytz-deprecation-shim, urllib3, tzlocal, pyjsparser, charset-normalizer, certifi, requests, pySmartDL, pyprind, js2py, docopt, pipwin\n",
      "Successfully installed certifi-2021.10.8 charset-normalizer-2.0.12 docopt-0.6.2 js2py-0.71 pipwin-0.5.2 pySmartDL-1.3.4 pyjsparser-2.7.1 pyprind-2.11.3 pytz-deprecation-shim-0.1.0.post0 requests-2.27.1 tzdata-2022.1 tzlocal-4.1 urllib3-1.26.9\n",
      "Note: you may need to restart the kernel to use updated packages.\n"
     ]
    },
    {
     "name": "stderr",
     "output_type": "stream",
     "text": [
      "WARNING: You are using pip version 21.1.2; however, version 22.0.4 is available.\n",
      "You should consider upgrading via the 'c:\\programming\\school\\cse 231\\siriclone\\scripts\\python.exe -m pip install --upgrade pip' command.\n"
     ]
    },
    {
     "name": "stdout",
     "output_type": "stream",
     "text": [
      "Building cache. Hang on . . .\n",
      "Done\n",
      "Package `pyaudio` found in cache\n",
      "Downloading package . . .\n",
      "https://download.lfd.uci.edu/pythonlibs/x6hvwk7i/PyAudio-0.2.11-cp39-cp39-win_amd64.whl\n",
      "PyAudio-0.2.11-cp39-cp39-win_amd64.whl\n",
      "[*] 0 bytes / 111 kB @ 0 bytes/s [------------------] [0.0%, 0s left]   \b\b\b\b\b\b\b\b\b\b\b\b\b\b\b\b\b\b\b\b\b\b\b\b\b\b\b\b\b\b\b\b\b\b\b\b\b\b\b\b\b\b\b\b\b\b\b\b\b\b\b\b\b\b\b\b\b\b\b\b\b\b\b\b\b\b\b\b\b\b\b\b\b [*] 0 bytes / 111 kB @ 0 bytes/s [------------------] [0.0%, 0s left]   \b\b\b\b\b\b\b\b\b\b\b\b\b\b\b\b\b\b\b\b\b\b\b\b\b\b\b\b\b\b\b\b\b\b\b\b\b\b\b\b\b\b\b\b\b\b\b\b\b\b\b\b\b\b\b\b\b\b\b\b\b\b\b\b\b\b\b\b\b\b\b\b\b [*] 0 bytes / 111 kB @ 0 bytes/s [------------------] [0.0%, 0s left]   \b\b\b\b\b\b\b\b\b\b\b\b\b\b\b\b\b\b\b\b\b\b\b\b\b\b\b\b\b\b\b\b\b\b\b\b\b\b\b\b\b\b\b\b\b\b\b\b\b\b\b\b\b\b\b\b\b\b\b\b\b\b\b\b\b\b\b\b\b\b\b\b\b [*] 0 bytes / 111 kB @ 0 bytes/s [------------------] [0.0%, 0s left]   \b\b\b\b\b\b\b\b\b\b\b\b\b\b\b\b\b\b\b\b\b\b\b\b\b\b\b\b\b\b\b\b\b\b\b\b\b\b\b\b\b\b\b\b\b\b\b\b\b\b\b\b\b\b\b\b\b\b\b\b\b\b\b\b\b\b\b\b\b\b\b\b\b [*] 40 kB / 111 kB @ 80 kB/s [######------------] [36.0%, 0s left]   \b\b\b\b\b\b\b\b\b\b\b\b\b\b\b\b\b\b\b\b\b\b\b\b\b\b\b\b\b\b\b\b\b\b\b\b\b\b\b\b\b\b\b\b\b\b\b\b\b\b\b\b\b\b\b\b\b\b\b\b\b\b\b\b\b\b\b\b\b\b Processing c:\\users\\kakan\\pipwin\\pyaudio-0.2.11-cp39-cp39-win_amd64.whl\n",
      "Installing collected packages: PyAudio\n",
      "Successfully installed PyAudio-0.2.11\n",
      "[*] 111 kB / 111 kB @ 80 kB/s [##################] [100%, 0s left]    \n"
     ]
    },
    {
     "name": "stderr",
     "output_type": "stream",
     "text": [
      "WARNING: You are using pip version 21.1.2; however, version 22.0.4 is available.\n",
      "You should consider upgrading via the 'c:\\programming\\school\\cse 231\\siriclone\\scripts\\python.exe -m pip install --upgrade pip' command.\n"
     ]
    }
   ],
   "source": [
    "%pip install pipwin\n",
    "! pipwin install pyaudio"
   ]
  },
  {
   "cell_type": "markdown",
   "id": "edb22481-ebe8-4091-8938-aa88fc8baffe",
   "metadata": {
    "id": "edb22481-ebe8-4091-8938-aa88fc8baffe",
    "tags": []
   },
   "source": [
    "### `PyAudio` on Mac\n",
    "The only directions I found rely on a tool called [Homebrew](https://brew.sh/) which helps install stuff on Mac. If you don't already have it installed, do that first. Then run the following commands:"
   ]
  },
  {
   "cell_type": "code",
   "execution_count": 31,
   "id": "9f1dee44-74f6-4160-b767-aa474623a518",
   "metadata": {
    "id": "9f1dee44-74f6-4160-b767-aa474623a518",
    "scrolled": true,
    "tags": []
   },
   "outputs": [
    {
     "name": "stderr",
     "output_type": "stream",
     "text": [
      "'brew' is not recognized as an internal or external command,\n",
      "operable program or batch file.\n"
     ]
    },
    {
     "name": "stdout",
     "output_type": "stream",
     "text": [
      "Requirement already satisfied: PyAudio in c:\\programming\\school\\cse 231\\siriclone\\lib\\site-packages (0.2.11)\n",
      "Note: you may need to restart the kernel to use updated packages.\n"
     ]
    },
    {
     "name": "stderr",
     "output_type": "stream",
     "text": [
      "WARNING: You are using pip version 21.1.2; however, version 22.0.4 is available.\n",
      "You should consider upgrading via the 'c:\\programming\\school\\cse 231\\siriclone\\scripts\\python.exe -m pip install --upgrade pip' command.\n"
     ]
    }
   ],
   "source": [
    "! brew install portaudio\n",
    "%pip install PyAudio"
   ]
  },
  {
   "cell_type": "markdown",
   "id": "7d60f23c-fc9a-48a3-8b06-287a900c24c2",
   "metadata": {
    "id": "7d60f23c-fc9a-48a3-8b06-287a900c24c2"
   },
   "source": [
    "### `PyAudio` on Linux\n",
    "I have no idea. Your goal is to successfully `pip install PyAudio`. Good luck."
   ]
  },
  {
   "cell_type": "markdown",
   "id": "17f9dd5e-83e5-48c5-8a76-e6227a804cb3",
   "metadata": {
    "id": "17f9dd5e-83e5-48c5-8a76-e6227a804cb3",
    "tags": []
   },
   "source": [
    "## Speech to Text Code\n",
    "Once the `SpeechRecognition` and `PyAudio` packages are installed, we can run the following code to listen from the microphone and convert that speech to text.\n",
    "\n",
    "Try running the following code, and when it says \"Listening...\" speak a sentence into your computer's microphone:"
   ]
  },
  {
   "cell_type": "code",
   "execution_count": 32,
   "id": "946caae5-3be3-4a16-8ff9-9cd52af481ae",
   "metadata": {
    "id": "946caae5-3be3-4a16-8ff9-9cd52af481ae"
   },
   "outputs": [
    {
     "name": "stdout",
     "output_type": "stream",
     "text": [
      "Listening...\n",
      "You said: hello there\n"
     ]
    }
   ],
   "source": [
    "import speech_recognition\n",
    "import pyttsx3\n",
    "\n",
    "\n",
    "recognizer = speech_recognition.Recognizer()\n",
    "microphone = speech_recognition.Microphone()\n",
    "\n",
    "# Let's calibrate the microphone based on the surroundings:\n",
    "with microphone as source:\n",
    "    recognizer.adjust_for_ambient_noise(source)\n",
    "\n",
    "# Now that it's callibrated, we can listen to the speaker.\n",
    "# It will automatically stop when you stop talking.\n",
    "with microphone as source:\n",
    "    print(\"Listening...\")\n",
    "    audio = recognizer.listen(source)\n",
    "\n",
    "# Then convert the microphone audio to text\n",
    "text = recognizer.recognize_google(audio)\n",
    "\n",
    "question = input(\"What is your question?\")\n",
    "\n",
    "# TODO: Get the text answer to the question from Wolfram Alpha\n",
    "response = client.query(text)\n",
    "pod = next(response.results)\n",
    "answer = pod.text # ???\n",
    "\n",
    "print(\"Your question: {}\".format(text))\n",
    "print(\"Answer: {}\".format(answer))\n",
    "\n",
    "# And now we can use the `text` variable to do anything we want:\n",
    "print(\"You said: \" + text)\n",
    "\n",
    "\n",
    "\n",
    "# You only need to create the engine once...\n",
    "engine = pyttsx3.init()\n",
    "\n",
    "# ...And then you can use it as many times as you want\n",
    "engine.say(answer)\n",
    "engine.runAndWait()"
   ]
  },
  {
   "cell_type": "markdown",
   "id": "ad7a6dbb",
   "metadata": {
    "id": "ad7a6dbb"
   },
   "source": [
    "Note: If your microphone never stops listening, it might be because the computer can't tell when you're done talking. (Maybe there's too much background noise.) To solve this, change `audio = recognizer.listen(source)` to be `audio = recognizer.listen(source, timeout=2, phrase_time_limit=15)`. This will limit the amount of time the microphone is allowed to stay on. "
   ]
  },
  {
   "cell_type": "markdown",
   "id": "8c258a8e-0ed4-4f4e-968c-0d2cb8c1a650",
   "metadata": {
    "id": "8c258a8e-0ed4-4f4e-968c-0d2cb8c1a650",
    "tags": []
   },
   "source": [
    "# Step 4: Your turn! Put it all together.\n",
    "Each individual piece of the puzzle is awesome on it's own. But what's really excellent is putting them all together. Your mission is to combine the three parts to create your very own voice assistant.\n",
    "\n",
    "You should...\n",
    "1. Use speech to text (from \"part 3\") to listen for a question from the microphone.\n",
    "2. Pass the user's question along to Wolfram Alpha (from \"part 1\") to get an answer.\n",
    "3. Use text to speech (from \"part 2\") to speak the answer back to the user.\n",
    "\n",
    "Of course, this is just a recommendation. These tools are yours, and you can build whatever you'd like with them!"
   ]
  },
  {
   "cell_type": "code",
   "execution_count": 39,
   "id": "7b3e95b7-59ea-412e-b61b-4c971aa94039",
   "metadata": {
    "id": "7b3e95b7-59ea-412e-b61b-4c971aa94039"
   },
   "outputs": [
    {
     "name": "stdout",
     "output_type": "stream",
     "text": [
      "What is your question?\n",
      "Listening...\n",
      "You said: what is the integral of 5x squared + 3\n",
      "Your question: what is the integral of 5x squared + 3\n",
      "Answer: integral(5 x^2 + 3) dx = (5 x^3)/3 + 3 x + constant\n"
     ]
    }
   ],
   "source": [
    "import speech_recognition\n",
    "import pyttsx3\n",
    "from wolframalpha import Client\n",
    "\n",
    "client = Client('PQKR53-4VJTP72EUK') # API Key\n",
    "print(\"What is your question?\")\n",
    "\n",
    "recognizer = speech_recognition.Recognizer()\n",
    "microphone = speech_recognition.Microphone()\n",
    "\n",
    "# Let's calibrate the microphone based on the surroundings:\n",
    "with microphone as source:\n",
    "    recognizer.adjust_for_ambient_noise(source)\n",
    "\n",
    "# Now that it's callibrated, we can listen to the speaker.\n",
    "# It will automatically stop when you stop talking.\n",
    "with microphone as source:\n",
    "    print(\"Listening...\")\n",
    "    audio = recognizer.listen(source, timeout=2, phrase_time_limit=15)\n",
    "\n",
    "# Then convert the microphone audio to text\n",
    "text = recognizer.recognize_google(audio)\n",
    "\n",
    "\n",
    "# TODO: Get the text answer to the question from Wolfram Alpha\n",
    "response = client.query(text)\n",
    "pod = next(response.results)\n",
    "answer = pod.text # ???\n",
    "print(\"You said: \" + text)\n",
    "\n",
    "print(\"Your question: {}\".format(text))\n",
    "print(\"Answer: {}\".format(answer))\n",
    "\n",
    "# And now we can use the `text` variable to do anything we want:\n",
    "\n",
    "\n",
    "\n",
    "\n",
    "# You only need to create the engine once...\n",
    "engine = pyttsx3.init()\n",
    "\n",
    "# ...And then you can use it as many times as you want\n",
    "engine.say(answer)\n",
    "engine.runAndWait()"
   ]
  },
  {
   "cell_type": "markdown",
   "id": "7da83afa-0963-400c-9299-58bdf1235ad3",
   "metadata": {
    "id": "7da83afa-0963-400c-9299-58bdf1235ad3"
   },
   "source": [
    "# Step 5: Getting Fancy"
   ]
  },
  {
   "cell_type": "markdown",
   "id": "dc30274b-faf9-4787-935d-86879863ab70",
   "metadata": {
    "id": "dc30274b-faf9-4787-935d-86879863ab70"
   },
   "source": [
    "Once you have a working chat bot, there are lots of fun things you can do. To get you started, here are a few recommendations:\n",
    "\n",
    "- Create your own custom commands that the computer will understand without using Wolfram Alpha\n",
    "  - Have the computer answer questions about your friends\n",
    "  - Have the computer tell jokes\n",
    "  - Give the computer a personality\n",
    "- Create custom commands that actually *do* something, not just respond\n",
    "  - A command to change how fast/slow the computer is speaking\n",
    "  - A command to change the computer's voice\n",
    "  - A command to do anything else you can do in Python...\n",
    "    - [Send a message on Discord](https://discordpy.readthedocs.io/en/stable/index.html) using just your voice\n",
    "    - Use OpenCV to do image editing using just your voice (e.g. \"Add a red circle\", \"Make the image smaller\")\n",
    "    - Use [PyAutoGUI](https://pyautogui.readthedocs.io/en/latest/) to control your mouse and keyboard using just your voice (e.g. \"Move the mouse up 100 pixels\")\n",
    "- Go back to the first workshop of the semester, airline tweet sentiment analysis, and create a voice bot that responds to each message based on the sentiment. So when the user says something nice, the comptuer responds nicely, and when the user says something mean, the computer gets upset."
   ]
  },
  {
   "cell_type": "code",
   "execution_count": null,
   "id": "ef99a2e6-3aa3-4a1b-bc34-7511445b57fe",
   "metadata": {
    "id": "ef99a2e6-3aa3-4a1b-bc34-7511445b57fe"
   },
   "outputs": [],
   "source": [
    "# This is your space to create an even fancier chat bot\n",
    "# Start by copying your code from step 4, and then make it better!\n",
    "\n",
    "print(\"Good luck!\")"
   ]
  }
 ],
 "metadata": {
  "colab": {
   "collapsed_sections": [],
   "name": "Chat Bot - AI Club Workshop.ipynb",
   "provenance": []
  },
  "kernelspec": {
   "display_name": "Python 3 (ipykernel)",
   "language": "python",
   "name": "python3"
  },
  "language_info": {
   "codemirror_mode": {
    "name": "ipython",
    "version": 3
   },
   "file_extension": ".py",
   "mimetype": "text/x-python",
   "name": "python",
   "nbconvert_exporter": "python",
   "pygments_lexer": "ipython3",
   "version": "3.9.6"
  }
 },
 "nbformat": 4,
 "nbformat_minor": 5
}
